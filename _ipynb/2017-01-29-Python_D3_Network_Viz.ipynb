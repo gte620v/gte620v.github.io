{
 "cells": [
  {
   "cell_type": "markdown",
   "metadata": {
    "cell_style": "center"
   },
   "source": [
    "I have dabbled with d3js for a while, and I am a junkie for the visualizations that the <a href=\"http://nyt.com\">New York Times</a> released that are written using d3js.  I recently did a project with <a href=\"https://anidata.org\">Anidata</a> that involved creating, manipulating, analyzing, and visualizing network graphs in python (more on that in a future post).  \n",
    "\n",
    "NetworkX is a great tool for doing all of these things and I started the project by plotting with NetworkX. The project culminated in a presentation and I felt that the impact on the audience of the result was less compelling with a static plot from NetworkX.  Inspired by some Notebook hacking that I've been exposed to by <a href=\"https://github.com/tonyfast\">Tony Fast</a> and <a href=\"https://github.com/bollwyvl\">Nicholas Bollweg</a> did, I decided to have a go at embedding d3js visualizations in a Jupyter Notebook.  \n",
    "\n",
    "My first attempt was based on <a href=\"http://blog.thedataincubator.com/2015/08/embedding-d3-in-an-ipython-notebook/\">this example</a>, which, in retrospect is a pretty big hack.  But it worked as a first pass.  \n",
    "\n",
    "A month or so later, I was looking for a way to integrated Google-style motion charts in a Jupyter Notebook and I found the <a href=\"https://github.com/hmelberg/motionchart\">`motionchart`</a> package that was based on a javascript project called <a href=\"https://github.com/SOCR/SocrMotionChartsHTML5\">SOCR HTML5 Motion Chart</a>.  Seeing the code in the `motionchart` package was an epiphany for me as it was a straightforward wrapper around a javascript code base with nice utility functions to export to html, the clipboard, or directly into a Notebook cell.\n",
    "\n",
    "\n",
    "## `pyd3netviz`\n",
    "\n",
    "I used `motionchart` as a template to create my own wrapper around one of my favorite d3 visualizations: <a href=\"https://bl.ocks.org/mbostock/4062045\">Force-Directed Graph</a>.  My package is called <a href=\"https://github.com/gte620v/pyd3netviz\">`pyd3netviz`</a> and is available from pip via \n",
    "\n",
    "```\n",
    "pip install pyd3netviz\n",
    "```\n",
    "\n",
    "There are a couple examples in <a href=\"https://github.com/gte620v/pyd3netviz/blob/master/notebooks/Example.ipynb\">a Notebook in the repo</a>.\n",
    "\n",
    "## Example"
   ]
  },
  {
   "cell_type": "code",
   "execution_count": 5,
   "metadata": {
    "ExecuteTime": {
     "end_time": "2017-01-29T20:58:28.542642",
     "start_time": "2017-01-29T20:58:28.517907"
    },
    "collapsed": false
   },
   "outputs": [
    {
     "data": {
      "text/html": [
       "\n",
       "        <iframe\n",
       "            width=\"900\"\n",
       "            height=\"700\"\n",
       "            src=\"graph_demo.html\"\n",
       "            frameborder=\"0\"\n",
       "            allowfullscreen\n",
       "        ></iframe>\n",
       "        "
      ],
      "text/plain": [
       "<IPython.lib.display.IFrame at 0x10ab9ec18>"
      ]
     },
     "metadata": {},
     "output_type": "display_data"
    }
   ],
   "source": [
    "from networkx import random_geometric_graph\n",
    "from pyd3netviz import ForceChart\n",
    "\n",
    "G=random_geometric_graph(100,0.125)\n",
    "\n",
    "fc =ForceChart(G,charge=-100,link_distance=50,width=550)\n",
    "fc.to_notebook('graph_demo.html')"
   ]
  }
 ],
 "metadata": {
  "anaconda-cloud": {},
  "kernelspec": {
   "display_name": "Python [Root]",
   "language": "python",
   "name": "Python [Root]"
  },
  "language_info": {
   "codemirror_mode": {
    "name": "ipython",
    "version": 3
   },
   "file_extension": ".py",
   "mimetype": "text/x-python",
   "name": "python",
   "nbconvert_exporter": "python",
   "pygments_lexer": "ipython3",
   "version": "3.5.2"
  },
  "latex_envs": {
   "bibliofile": "biblio.bib",
   "cite_by": "apalike",
   "current_citInitial": 1,
   "eqLabelWithNumbers": true,
   "eqNumInitial": 0
  },
  "shorttitle": "Python D3 Net Viz"
 },
 "nbformat": 4,
 "nbformat_minor": 0
}
